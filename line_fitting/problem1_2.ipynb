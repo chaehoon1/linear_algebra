{
 "cells": [
  {
   "cell_type": "code",
   "execution_count": 1,
   "id": "08d8d0a7",
   "metadata": {},
   "outputs": [
    {
     "data": {
      "image/png": "[encoded data removed]",
      "text/plain": [
       "<Figure size 432x288 with 1 Axes>"
      ]
     },
     "metadata": {
      "needs_background": "light"
     },
     "output_type": "display_data"
    }
   ],
   "source": [
    "import matplotlib.pyplot as plt\n",
    "import numpy as np\n",
    "\n",
    "train_x = [-5, -4, -3, -2, -1, 0, 1, 2, 3, 4, 5]\n",
    "train_y = [2.8, 1.0, -1.0, -2.3, -2.7, -3.0, -3.2, -2.0, -1.0, 0.4, 3.0]\n",
    "\n",
    "plt.scatter(train_x, train_y)\n",
    "plt.xlabel('x-axis')\n",
    "plt.ylabel('y-axis')\n",
    "plt.title('Train Dataset')\n",
    "plt.grid(True)\n",
    "plt.show()"
   ]
  },
  {
   "cell_type": "code",
   "execution_count": 2,
   "id": "9bff6c88",
   "metadata": {},
   "outputs": [
    {
     "name": "stdout",
     "output_type": "stream",
     "text": [
      "[[25. -5.  1.]\n",
      " [16. -4.  1.]\n",
      " [ 9. -3.  1.]\n",
      " [ 4. -2.  1.]\n",
      " [ 1. -1.  1.]\n",
      " [ 0.  0.  1.]\n",
      " [ 1.  1.  1.]\n",
      " [ 4.  2.  1.]\n",
      " [ 9.  3.  1.]\n",
      " [16.  4.  1.]\n",
      " [25.  5.  1.]]\n",
      "[[ 2.8]\n",
      " [ 1. ]\n",
      " [-1. ]\n",
      " [-2.3]\n",
      " [-2.7]\n",
      " [-3. ]\n",
      " [-3.2]\n",
      " [-2. ]\n",
      " [-1. ]\n",
      " [ 0.4]\n",
      " [ 3. ]]\n"
     ]
    }
   ],
   "source": [
    "A = np.zeros((11, 3))\n",
    "b = np.zeros((11, 1))\n",
    "\n",
    "for i in range(11) :\n",
    "    A[i][0] = train_x[i]**2\n",
    "    A[i][1] = train_x[i]\n",
    "    A[i][2] = 1\n",
    "    b[i][0] = train_y[i]\n",
    "    \n",
    "print(A)\n",
    "print(b)"
   ]
  },
  {
   "cell_type": "code",
   "execution_count": 5,
   "id": "7bd5b4d8",
   "metadata": {},
   "outputs": [
    {
     "name": "stdout",
     "output_type": "stream",
     "text": [
      "[[25. -5.  1.]\n",
      " [16. -4.  1.]\n",
      " [ 9. -3.  1.]\n",
      " [12. -6.  3.]\n",
      " [ 3. -3.  3.]\n",
      " [ 0.  0.  3.]\n",
      " [ 3.  3.  3.]\n",
      " [12.  6.  3.]\n",
      " [ 9.  3.  1.]\n",
      " [16.  4.  1.]\n",
      " [25.  5.  1.]]\n",
      "[[ 2.8]\n",
      " [ 1. ]\n",
      " [-1. ]\n",
      " [-6.9]\n",
      " [-8.1]\n",
      " [-9. ]\n",
      " [-9.6]\n",
      " [-6. ]\n",
      " [-1. ]\n",
      " [ 0.4]\n",
      " [ 3. ]]\n"
     ]
    }
   ],
   "source": [
    "w = np.zeros((11, 11))\n",
    "for i in range(11) :\n",
    "    if 3 <= i and i <= 7 :\n",
    "        w[i][i] = 3\n",
    "    else :\n",
    "        w[i][i] = 1\n",
    "    \n",
    "weighted_A = np.dot(w, A)\n",
    "weighted_b = np.dot(w, b)\n",
    "print(weighted_A)\n",
    "print(weighted_b)"
   ]
  },
  {
   "cell_type": "code",
   "execution_count": 8,
   "id": "057c9708",
   "metadata": {},
   "outputs": [
    {
     "name": "stdout",
     "output_type": "stream",
     "text": [
      "[[ 2.39604534e-01]\n",
      " [-2.63157895e-03]\n",
      " [-3.12009532e+00]]\n"
     ]
    }
   ],
   "source": [
    "x = np.zeros((3, 1))\n",
    "x = np.dot(np.dot(np.linalg.inv(np.dot(weighted_A.T, weighted_A)), weighted_A.T), weighted_b)\n",
    "print(x)"
   ]
  },
  {
   "cell_type": "code",
   "execution_count": 7,
   "id": "eca89cfa",
   "metadata": {},
   "outputs": [
    {
     "data": {
      "image/png": "[encoded data removed]",
      "text/plain": [
       "<Figure size 432x288 with 1 Axes>"
      ]
     },
     "metadata": {
      "needs_background": "light"
     },
     "output_type": "display_data"
    }
   ],
   "source": [
    "input_x = np.linspace(-5, 5, 400)\n",
    "a, b, c = x[0][0], x[1][0], x[2][0]\n",
    "output_y = a * input_x**2 + b * input_x + c\n",
    "\n",
    "plt.scatter(train_x, train_y)\n",
    "plt.plot(input_x, output_y, label=f'y = {a}x^2 + {b}x + {c}')\n",
    "plt.xlabel('x-axis')\n",
    "plt.ylabel('y-axis')\n",
    "plt.title('Graph of Quadratic Function')\n",
    "plt.grid(True)\n",
    "plt.show()"
   ]
  },
  {
   "cell_type": "code",
   "execution_count": null,
   "id": "191480dd",
   "metadata": {},
   "outputs": [],
   "source": []
  },
  {
   "cell_type": "code",
   "execution_count": null,
   "id": "051bbd3e",
   "metadata": {},
   "outputs": [],
   "source": []
  }
 ],
 "metadata": {
  "kernelspec": {
   "display_name": "Python 3 (ipykernel)",
   "language": "python",
   "name": "python3"
  },
  "language_info": {
   "codemirror_mode": {
    "name": "ipython",
    "version": 3
   },
   "file_extension": ".py",
   "mimetype": "text/x-python",
   "name": "python",
   "nbconvert_exporter": "python",
   "pygments_lexer": "ipython3",
   "version": "3.9.12"
  }
 },
 "nbformat": 4,
 "nbformat_minor": 5
}
